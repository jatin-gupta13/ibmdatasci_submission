{
 "cells": [
  {
   "cell_type": "markdown",
   "id": "673a01b0-1b2c-450f-84bb-aab585ef70c0",
   "metadata": {},
   "source": [
    "# Data Science Tools and Ecosystem"
   ]
  },
  {
   "cell_type": "markdown",
   "id": "d23f1c2f-3846-491b-a1b1-ee89dc5c1656",
   "metadata": {},
   "source": [
    "## Author \n",
    "Jatin Gupta"
   ]
  },
  {
   "cell_type": "markdown",
   "id": "1a150466-1317-4111-97cf-436d80206509",
   "metadata": {},
   "source": [
    "In this notebook, Data Science Tools and Ecosystem are summarized."
   ]
  },
  {
   "cell_type": "markdown",
   "id": "fa9b2313-5715-4dc2-998e-999927d4c71b",
   "metadata": {},
   "source": [
    "Objectives: Cover various Data science aspects and required tools \n",
    "- Popular language for Data science\n",
    "- Data science libraries\n",
    "- Data science tools\n",
    "- Arithmetic expression in python\n",
    "\n"
   ]
  },
  {
   "cell_type": "markdown",
   "id": "e751664f-f3fc-474c-9980-e1d552f9fd41",
   "metadata": {},
   "source": [
    "Some of the popular languages that Data Scientists use are:\n",
    "1. Python\n",
    "2. Java\n",
    "3. R"
   ]
  },
  {
   "cell_type": "markdown",
   "id": "1aa56665-ca98-46b8-ae27-3653808c55de",
   "metadata": {},
   "source": [
    "Some of the commonly used libraries used by Data Scientists include:\n",
    "1. scikit\n",
    "2. tensorflow\n",
    "3. pandas"
   ]
  },
  {
   "cell_type": "markdown",
   "id": "a543330a-5206-4b86-a63a-30521da09f57",
   "metadata": {},
   "source": [
    "Data science tools|\n",
    "----|\n",
    "jupyter|\n",
    "Rstudio|\n",
    "VSCode|"
   ]
  },
  {
   "cell_type": "markdown",
   "id": "f7fdb56b-11bf-4d6e-9736-acb1a03bf845",
   "metadata": {},
   "source": [
    "### Below are a few examples of evaluating arithmetic expressions in Python"
   ]
  },
  {
   "cell_type": "code",
   "execution_count": 4,
   "id": "09737499-ba05-4592-ba79-ce6618d1b71f",
   "metadata": {},
   "outputs": [
    {
     "data": {
      "text/plain": [
       "17"
      ]
     },
     "execution_count": 4,
     "metadata": {},
     "output_type": "execute_result"
    }
   ],
   "source": [
    "#This a simple arithmetic expression to mutiply then add integers\n",
    "(3*4)+5"
   ]
  },
  {
   "cell_type": "code",
   "execution_count": 6,
   "id": "cfe9f8db-4d8e-4dfb-8bfb-d419f6ba0546",
   "metadata": {},
   "outputs": [
    {
     "name": "stdout",
     "output_type": "stream",
     "text": [
      "3.3333333333333335\n"
     ]
    }
   ],
   "source": [
    "#This will convert 200 minutes to hours by diving by 60\n",
    "minutes=200\n",
    "hours=minutes/60\n",
    "print(hours)"
   ]
  },
  {
   "cell_type": "code",
   "execution_count": null,
   "id": "3a7207aa-ac9f-4718-87d0-e6e81a2f453a",
   "metadata": {},
   "outputs": [],
   "source": []
  }
 ],
 "metadata": {
  "kernelspec": {
   "display_name": "Python 3 (ipykernel)",
   "language": "python",
   "name": "python3"
  },
  "language_info": {
   "codemirror_mode": {
    "name": "ipython",
    "version": 3
   },
   "file_extension": ".py",
   "mimetype": "text/x-python",
   "name": "python",
   "nbconvert_exporter": "python",
   "pygments_lexer": "ipython3",
   "version": "3.12.7"
  }
 },
 "nbformat": 4,
 "nbformat_minor": 5
}
